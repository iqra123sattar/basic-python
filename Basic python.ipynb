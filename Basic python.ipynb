{
 "cells": [
  {
   "cell_type": "markdown",
   "id": "f3175be5",
   "metadata": {},
   "source": [
    "# control structures "
   ]
  },
  {
   "cell_type": "markdown",
   "id": "fd28da19",
   "metadata": {},
   "source": [
    "# Q1: Write a program to tell if a given number is negative, zero or positive."
   ]
  },
  {
   "cell_type": "markdown",
   "id": "d6086d6b",
   "metadata": {},
   "source": [
    "#### "
   ]
  },
  {
   "cell_type": "code",
   "execution_count": 1,
   "id": "76a9961b",
   "metadata": {},
   "outputs": [
    {
     "name": "stdout",
     "output_type": "stream",
     "text": [
      "Enter your number :2\n",
      "positive number\n"
     ]
    }
   ],
   "source": [
    "num =int(input(\"Enter your number :\"))\n",
    "if num > 0:\n",
    "    print(\"positive number\")\n",
    "elif num == 0:\n",
    "    print(\"zero\")\n",
    "else:\n",
    "    print(\"negative number\")"
   ]
  },
  {
   "cell_type": "markdown",
   "id": "c36be943",
   "metadata": {},
   "source": [
    "num =int(input(\"Enter your number :\"))\n",
    "if num > 0:\n",
    "    print(\"positive number\")\n",
    "elif num == 0:\n",
    "    print(\"zero\")\n",
    "else:\n",
    "    print(\"negative number\")"
   ]
  },
  {
   "cell_type": "markdown",
   "id": "252d7048",
   "metadata": {},
   "source": [
    "# Q2. Write a program to print whether a given number is even or odd"
   ]
  },
  {
   "cell_type": "code",
   "execution_count": 2,
   "id": "b8b2b232",
   "metadata": {},
   "outputs": [
    {
     "name": "stdout",
     "output_type": "stream",
     "text": [
      "enter a number60\n",
      "even number\n"
     ]
    }
   ],
   "source": [
    "num = int(input(\"enter a number\"))\n",
    "if num % 2 ==0:\n",
    "    print(\"even number\")\n",
    "else:\n",
    "    print(\"odd number\")"
   ]
  },
  {
   "cell_type": "code",
   "execution_count": 17,
   "id": "8fbd5b64",
   "metadata": {},
   "outputs": [
    {
     "name": "stdout",
     "output_type": "stream",
     "text": [
      "enter a number5\n",
      "odd number\n"
     ]
    }
   ],
   "source": [
    "num = int(input(\"enter a number\"))\n",
    "if num % 2 ==0:\n",
    "    print(\"even number\")\n",
    "else:\n",
    "    print(\"odd number\")"
   ]
  },
  {
   "cell_type": "markdown",
   "id": "6996d896",
   "metadata": {},
   "source": [
    "# Q3. Write a program to print all the even and odd numbers (two separate sequences) up to a given number."
   ]
  },
  {
   "cell_type": "code",
   "execution_count": 18,
   "id": "30e90c5d",
   "metadata": {},
   "outputs": [
    {
     "name": "stdout",
     "output_type": "stream",
     "text": [
      "enter number of elements:6\n",
      "even number\n"
     ]
    }
   ],
   "source": [
    "num = int(input(\"enter number of elements:\"))\n",
    "if num % 2 ==0:\n",
    "    print(\"even number\")\n",
    "else:\n",
    "    print(\"odd number\")"
   ]
  },
  {
   "cell_type": "code",
   "execution_count": 3,
   "id": "2433f4e1",
   "metadata": {},
   "outputs": [
    {
     "name": "stdout",
     "output_type": "stream",
     "text": [
      "enter your numbers:61\n",
      "odd number\n"
     ]
    }
   ],
   "source": [
    "num = int(input(\"enter your numbers:\"))\n",
    "if num % 2 ==0:\n",
    "    print(\"even number\")\n",
    "else:\n",
    "    print(\"odd number\")"
   ]
  },
  {
   "cell_type": "markdown",
   "id": "f71c0f8d",
   "metadata": {},
   "source": [
    "# Q # 4"
   ]
  },
  {
   "cell_type": "markdown",
   "id": "33e73fe3",
   "metadata": {},
   "source": [
    "# python program to check if the given character is an alphabet, digit or a punctuation character."
   ]
  },
  {
   "cell_type": "code",
   "execution_count": 7,
   "id": "73c5d2b6",
   "metadata": {},
   "outputs": [
    {
     "name": "stdout",
     "output_type": "stream",
     "text": [
      "Enter your own character:/\n",
      "the given charater  / is a punctuation character\n"
     ]
    }
   ],
   "source": [
    "ch = input(\"Enter your own character:\")\n",
    "if  (ch >= 'a' and ch <= 'z') or (ch >= 'A' and ch <= 'Z'):\n",
    "    print(\"The  given  character\" , ch, \"is an alphabet\")\n",
    "elif  (ch >='0' and ch <='9'):  \n",
    "     print(\"the given character \", ch, \"is a digit\")\n",
    "else:\n",
    "    print(\"the given charater \", ch, \"is a punctuation character\")"
   ]
  },
  {
   "cell_type": "markdown",
   "id": "08ca1d7e",
   "metadata": {},
   "source": [
    "# Q5: Write a program to check if the given alphabet is a consonant or a vowel."
   ]
  },
  {
   "cell_type": "code",
   "execution_count": 8,
   "id": "c65ec1b7",
   "metadata": {},
   "outputs": [
    {
     "name": "stdout",
     "output_type": "stream",
     "text": [
      "enter your vowels:y\n",
      "consonants character\n"
     ]
    }
   ],
   "source": [
    "#check if the given alphabet is a consonant or a vowel.\n",
    "ch = input(\"enter your vowels:\")\n",
    "ch = ch.upper()\n",
    "if (ch=='A'or ch=='E'or ch=='I'or ch=='O'or ch=='u'):\n",
    "     print(\"vowels character\") \n",
    "else:           \n",
    "     print(\"consonants character\")"
   ]
  },
  {
   "cell_type": "code",
   "execution_count": 3,
   "id": "46d904c3",
   "metadata": {},
   "outputs": [
    {
     "name": "stdout",
     "output_type": "stream",
     "text": [
      "enter your vowels:f\n",
      "consonants character\n"
     ]
    }
   ],
   "source": [
    "ch = input(\"enter your vowels:\")\n",
    "ch = ch.upper()\n",
    "if (ch=='A'or ch=='E'or ch=='I'or ch=='O'or ch=='u'):\n",
    "     print(\"vowels character\") \n",
    "else:           \n",
    "     print(\"consonants character\")"
   ]
  },
  {
   "cell_type": "markdown",
   "id": "ffebe6d0",
   "metadata": {},
   "source": [
    "# Write a program to count the number vowels and consonants in the given\n",
    "input string."
   ]
  },
  {
   "cell_type": "code",
   "execution_count": 11,
   "id": "f96eded8",
   "metadata": {},
   "outputs": [
    {
     "name": "stdout",
     "output_type": "stream",
     "text": [
      "enter your vowels:S\n",
      "consonants character\n"
     ]
    }
   ],
   "source": [
    "ch = input(\"enter your vowels:\")\n",
    "ch = ch.upper()\n",
    "if (ch=='A'or ch=='E'or ch=='I'or ch=='O'or ch=='u'):\n",
    "     print(\"vowels character\") \n",
    "else:           \n",
    "     print(\"consonants character\")"
   ]
  },
  {
   "cell_type": "markdown",
   "id": "0c416c92",
   "metadata": {},
   "source": [
    "# Q7: Write a program to check if the given number is prime or not."
   ]
  },
  {
   "cell_type": "code",
   "execution_count": 2,
   "id": "53405ff7",
   "metadata": {
    "scrolled": true
   },
   "outputs": [
    {
     "name": "stdout",
     "output_type": "stream",
     "text": [
      "enter your number:16\n",
      "16 is not a prime number\n"
     ]
    }
   ],
   "source": [
    "#check if the given number is prime or not.\n",
    "num = int(input(\"enter your number:\"))\n",
    "#prime numbers are a greater than 1 \n",
    "for i in range(2,num): \n",
    "    if(num % i) == 0:\n",
    "        print(num,\"is not a prime number\")\n",
    "        break\n",
    "else:\n",
    "    print(num, \"is a prime number\")"
   ]
  },
  {
   "cell_type": "markdown",
   "id": "ad5f14b7",
   "metadata": {},
   "source": [
    "# Q9: Write a program to check if the given year is a leap year or not."
   ]
  },
  {
   "cell_type": "code",
   "execution_count": 2,
   "id": "f78ef8fa",
   "metadata": {},
   "outputs": [
    {
     "name": "stdout",
     "output_type": "stream",
     "text": [
      "enter a year : 2020\n",
      "leap year\n"
     ]
    }
   ],
   "source": [
    "#program to check if the given year is a leap year or not. \n",
    "year = int(input(\"enter a year : \"))\n",
    "#check leap year.\n",
    "if year % 4 == 0:\n",
    "    print(\"leap year\")\n",
    "else:\n",
    "    print(\"not a leap year\")    \n",
    "    "
   ]
  },
  {
   "cell_type": "markdown",
   "id": "df540712",
   "metadata": {},
   "source": [
    "# Q10: Write a program to check if the given string is a palindrome."
   ]
  },
  {
   "cell_type": "code",
   "execution_count": 1,
   "id": "32b73766",
   "metadata": {},
   "outputs": [
    {
     "name": "stdout",
     "output_type": "stream",
     "text": [
      "the list is not a palindrome.\n"
     ]
    }
   ],
   "source": [
    "# program to check if the given string is a palindrome.\n",
    "my_str = \"iqra\"\n",
    "my_str = my_str.casefold()\n",
    "# reverse the string.\n",
    "rev_str = reversed(my_str)\n",
    "# check if the string is equal to its reverse.\n",
    "if list(my_str) == list(rev_str):\n",
    "    print(\"the list is palindrome.\")\n",
    "else:\n",
    "    print(\"the list is not a palindrome.\")"
   ]
  },
  {
   "cell_type": "markdown",
   "id": "d8803d90",
   "metadata": {},
   "source": [
    "# Q11: Write a program to print factorial of a given number."
   ]
  },
  {
   "cell_type": "code",
   "execution_count": 2,
   "id": "01aeaa95",
   "metadata": {},
   "outputs": [
    {
     "name": "stdout",
     "output_type": "stream",
     "text": [
      "enter number: 4\n",
      "the factorial is: 4\n",
      "the factorial is: 12\n",
      "the factorial is: 24\n",
      "the factorial is: 24\n"
     ]
    }
   ],
   "source": [
    "#program to print factorial of a given numbe\n",
    "factorial = 1\n",
    "num = int(input(\"enter number: \"))\n",
    "while num > 0:\n",
    "    factorial = factorial*num\n",
    "    num =num-1\n",
    "    print(\"the factorial is:\", factorial)"
   ]
  },
  {
   "cell_type": "markdown",
   "id": "09fd2603",
   "metadata": {},
   "source": [
    "# Q12: Write a program to generate the first n terms of the Fibonacci series."
   ]
  },
  {
   "cell_type": "code",
   "execution_count": 6,
   "id": "eb099277",
   "metadata": {},
   "outputs": [
    {
     "name": "stdout",
     "output_type": "stream",
     "text": [
      "enter the number:10\n",
      "fibonacci series: 0 1 1 2 3 5 8 13 21 34 "
     ]
    }
   ],
   "source": [
    "#program to generate the first n terms of the Fibonacci series.\n",
    "num = int(input(\"enter the number:\"))\n",
    "n1,n2 = 0,1\n",
    "a = \" \"\n",
    "print(\"fibonacci series:\", n1, n2, end = \" \")\n",
    "for i in range(2,num):\n",
    "        n3 =n1 + n2\n",
    "        n1 = n2\n",
    "        n2 = n3\n",
    "        \n",
    "        print(n3, end = \" \") \n",
    "        "
   ]
  },
  {
   "cell_type": "markdown",
   "id": "4eb0db5d",
   "metadata": {},
   "source": [
    "# Q13: Write a program to print the grade for a given percentage of marks. The grade should be \n",
    "A for marks>=80, \n",
    "B for marks>=60, \n",
    "C for marks>=40 and \n",
    "D otherwise."
   ]
  },
  {
   "cell_type": "code",
   "execution_count": 10,
   "id": "183e1292",
   "metadata": {},
   "outputs": [
    {
     "name": "stdout",
     "output_type": "stream",
     "text": [
      "enter marks of the first subject: 989\n",
      "Grade: A\n"
     ]
    }
   ],
   "source": [
    "#python program to print the grade for a given percentage of marks.the grade should be.\n",
    "\n",
    "num = int(input(\"enter marks of the first subject: \"))\n",
    "if num>=80:\n",
    "    print(\"Grade: A\") \n",
    "elif num>=60:\n",
    "    print(\"Grade: B\")\n",
    "elif num>=40:\n",
    "     print(\"Grade: C\")\n",
    "else:\n",
    "    print(\"Grade: D\")"
   ]
  },
  {
   "cell_type": "markdown",
   "id": "b38c8c1c",
   "metadata": {},
   "source": [
    "# Q14: Write a program to find if the given point lies on the x-axis, y-axis or on the z-axis, given it’s coordinates. e.g: A point is shown like:(x-value, y-value, z-value) for example (12,56,78)\n"
   ]
  },
  {
   "cell_type": "markdown",
   "id": "55d734e5",
   "metadata": {},
   "source": [
    "# Q:no.14"
   ]
  },
  {
   "cell_type": "code",
   "execution_count": 12,
   "id": "bbe67eed",
   "metadata": {
    "scrolled": true
   },
   "outputs": [
    {
     "name": "stdout",
     "output_type": "stream",
     "text": [
      "please enter a point having three axis: 34\n",
      "axis_index\n",
      "axis value\n",
      "34 lies on x_axis\n",
      "34 lies on y_axis\n"
     ]
    }
   ],
   "source": [
    "#python program to find if the given point lies on the x-axis, y-axis or on the z-axis, given its coordinate:\n",
    "point = input(\"please enter a point having three axis: \")\n",
    "values = point.split(\",\")\n",
    "for axis_index in range(len(values)):\n",
    "    print(\"axis_index\")\n",
    "    axis_values = values [axis_index]\n",
    "print (\"axis value\")\n",
    "if axis_index == 0:\n",
    "    print(axis_values, \"lies on x_axis\")\n",
    "    print(axis_values, \"lies on y_axis\")\n",
    "else:\n",
    "    print(axis_values, \"lies on z_axis\")"
   ]
  },
  {
   "cell_type": "code",
   "execution_count": 2,
   "id": "9d699f89",
   "metadata": {},
   "outputs": [
    {
     "name": "stdout",
     "output_type": "stream",
     "text": [
      "enter x axis value: 1\n",
      "enter y axis value: 2\n",
      "enter z axis value: 0\n",
      "given point lies in x-axis\n",
      "given point lies in y-axis\n"
     ]
    }
   ],
   "source": [
    "x = int(input(\"enter x axis value: \"))\n",
    "y = int(input(\"enter y axis value: \"))\n",
    "z = int(input(\"enter z axis value: \"))\n",
    "if x!=0:\n",
    "    print(\"given point lies in x-axis\")\n",
    "if y != 0:\n",
    "    print(\"given point lies in y-axis\")\n",
    "if z!= 0:\n",
    "    print(\"given point lies in z-axis\")"
   ]
  },
  {
   "cell_type": "code",
   "execution_count": 10,
   "id": "3dfafebd",
   "metadata": {},
   "outputs": [
    {
     "name": "stdout",
     "output_type": "stream",
     "text": [
      "please enter a point having three axis: 78\n",
      "axis_index\n",
      "axis value\n",
      "78 lies on x_axis\n",
      "78 lies on y_axis\n"
     ]
    }
   ],
   "source": [
    "#python program to find if the given point lies on the x-axis, y-axis or on the z-axis, given its coordinate:\n",
    "point = input(\"please enter a point having three axis: \")\n",
    "values = point.split(\",\")\n",
    "for axis_index in range(len(values)):\n",
    "    print(\"axis_index\")\n",
    "    axis_values = values [axis_index]\n",
    "print (\"axis value\")\n",
    "if axis_index == 0:\n",
    "    print(axis_values, \"lies on x_axis\")\n",
    "    print(axis_values, \"lies on y_axis\")\n",
    "else:\n",
    "    print(axis_values, \"lies on z_axis\")"
   ]
  },
  {
   "cell_type": "markdown",
   "id": "bf55caa5",
   "metadata": {},
   "source": [
    "# Q15: Write a program to find the distance between the two points. User should enter the coordinates of the two points."
   ]
  },
  {
   "cell_type": "code",
   "execution_count": 12,
   "id": "dadbc88b",
   "metadata": {},
   "outputs": [
    {
     "name": "stdout",
     "output_type": "stream",
     "text": [
      "enter x1: 2\n",
      "enter x2: 4\n",
      "enter y1: 6\n",
      "enter y2: 8\n",
      "2.8284271247461903\n"
     ]
    }
   ],
   "source": [
    "#program to find the distance between the two points. User should enter the coordinates of the two points.\n",
    "#distance formula.\n",
    "x1 = int(input(\"enter x1: \"))\n",
    "x2 = int(input(\"enter x2: \"))\n",
    "y1 = int(input(\"enter y1: \"))\n",
    "y2 = int(input(\"enter y2: \"))\n",
    "result= ((((x2-x1)**2)+(y2-y1)**2)**0.5)\n",
    "print(result)\n"
   ]
  },
  {
   "cell_type": "markdown",
   "id": "38d88e14",
   "metadata": {},
   "source": [
    "# Q17: Write a program which repeatedly reads numbers until the user enters “done”. Once “done” is entered, print out the total, count, and average of the numbers. If the user enters anything other than a number, detect their mistake.\n"
   ]
  },
  {
   "cell_type": "code",
   "execution_count": 1,
   "id": "c10b98b1",
   "metadata": {},
   "outputs": [
    {
     "name": "stdout",
     "output_type": "stream",
     "text": [
      "2\n",
      "3\n",
      "4\n",
      "6\n",
      "8\n",
      "break\n",
      "you have made a mistake. try again.\n",
      "done\n",
      "thank you\n",
      "5\n",
      "23\n",
      "4.6\n"
     ]
    }
   ],
   "source": [
    "count=0\n",
    "total=0\n",
    "\n",
    "while True:\n",
    "    numbers=input()\n",
    "    if numbers=='done':\n",
    "        print('thank you')\n",
    "        print(count)\n",
    "        print(total)\n",
    "        print(total/count)\n",
    "        break\n",
    "    elif (numbers != 'done') and (not numbers.isdigit()):\n",
    "            print('you have made a mistake. try again.')\n",
    "            continue\n",
    "\n",
    "    numbers=int(numbers)\n",
    "    count=count+1\n",
    "    total=total + numbers"
   ]
  },
  {
   "cell_type": "markdown",
   "id": "0efe72cb",
   "metadata": {},
   "source": [
    "5#### 5#### Q16: Write a program to print if the given triangle is an equilateral triangle, isosceles triangle or scalene triangle. User should enter the values for the sides of the triangle.\n"
   ]
  },
  {
   "cell_type": "code",
   "execution_count": 15,
   "id": "7a8c7807",
   "metadata": {},
   "outputs": [
    {
     "name": "stdout",
     "output_type": "stream",
     "text": [
      "x: 3\n",
      "y: 4\n",
      "z: 4\n",
      "isosceles triangle\n"
     ]
    }
   ],
   "source": [
    "sides =(\"input lenght of the triagle sides: \")\n",
    "x = int(input(\"x: \"))\n",
    "y = int(input(\"y: \"))\n",
    "z = int(input(\"z: \"))\n",
    "if x == y == z:\n",
    "        print(\"equilalateral triangle\")\n",
    "elif x == y or y == z or z == x:\n",
    "        print(\"isosceles triangle\")\n",
    "else:        \n",
    "        print(\"scalene triangle\")  "
   ]
  },
  {
   "cell_type": "code",
   "execution_count": null,
   "id": "7c72e8f0",
   "metadata": {},
   "outputs": [],
   "source": []
  },
  {
   "cell_type": "code",
   "execution_count": null,
   "id": "4d1e30ee",
   "metadata": {},
   "outputs": [],
   "source": []
  },
  {
   "cell_type": "code",
   "execution_count": null,
   "id": "61a8ea1c",
   "metadata": {},
   "outputs": [],
   "source": []
  }
 ],
 "metadata": {
  "kernelspec": {
   "display_name": "Python 3",
   "language": "python",
   "name": "python3"
  },
  "language_info": {
   "codemirror_mode": {
    "name": "ipython",
    "version": 3
   },
   "file_extension": ".py",
   "mimetype": "text/x-python",
   "name": "python",
   "nbconvert_exporter": "python",
   "pygments_lexer": "ipython3",
   "version": "3.8.8"
  }
 },
 "nbformat": 4,
 "nbformat_minor": 5
}
